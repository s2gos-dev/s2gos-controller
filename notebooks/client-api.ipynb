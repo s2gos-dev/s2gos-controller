{
 "cells": [
  {
   "cell_type": "markdown",
   "id": "ed01d1e5-12e4-4fe8-9e1a-e57f0bb7a7da",
   "metadata": {},
   "source": [
    "Before running this notebook, please run\n",
    "\n",
    "```bash\n",
    "s2gos-server run --service=s2gos_server.services.local.testing:service\n",
    "```"
   ]
  },
  {
   "cell_type": "code",
   "execution_count": 1,
   "id": "8be0d24e-00ad-4ce0-8217-27a6747b5767",
   "metadata": {},
   "outputs": [],
   "source": [
    "from s2gos_client import Client\n",
    "from s2gos_common.models import ProcessRequest"
   ]
  },
  {
   "cell_type": "code",
   "execution_count": 2,
   "id": "6c90402f-b2a2-4e1e-873c-8ceca7780ed6",
   "metadata": {},
   "outputs": [
    {
     "data": {
      "application/json": {
       "access_token": "30948305",
       "server_url": "http://127.0.0.1:8008",
       "user_name": "forman"
      },
      "text/plain": [
       "<s2gos_client.api.client.Client at 0x245ca989550>"
      ]
     },
     "execution_count": 2,
     "metadata": {
      "application/json": {
       "root": "Configuration:"
      }
     },
     "output_type": "execute_result"
    }
   ],
   "source": [
    "client = Client(debug=True)\n",
    "client"
   ]
  },
  {
   "cell_type": "code",
   "execution_count": 3,
   "id": "18cd3a18-73ee-411d-b6bb-8a63a9c2d95c",
   "metadata": {},
   "outputs": [
    {
     "data": {
      "application/json": {
       "description": "Local test server implementing the OGC API - Processes 1.0 Standard",
       "links": [
        {
         "href": "http://127.0.0.1:8008/",
         "hreflang": "en",
         "rel": "self",
         "title": "get_capabilities",
         "type": "application/json"
        },
        {
         "href": "http://127.0.0.1:8008/openapi.json",
         "hreflang": "en",
         "rel": "service",
         "title": "openapi",
         "type": "application/json"
        },
        {
         "href": "http://127.0.0.1:8008/docs",
         "hreflang": "en",
         "rel": "service",
         "title": "swagger_ui_html",
         "type": "text/html"
        },
        {
         "href": "http://127.0.0.1:8008/docs/oauth2-redirect",
         "hreflang": "en",
         "rel": "service",
         "title": "swagger_ui_redirect",
         "type": "text/html"
        },
        {
         "href": "http://127.0.0.1:8008/redoc",
         "hreflang": "en",
         "rel": "service",
         "title": "redoc_html",
         "type": "text/html"
        },
        {
         "href": "http://127.0.0.1:8008/",
         "hreflang": "en",
         "rel": "service",
         "title": "get_capabilities",
         "type": "application/json"
        },
        {
         "href": "http://127.0.0.1:8008/conformance",
         "hreflang": "en",
         "rel": "service",
         "title": "get_conformance",
         "type": "application/json"
        },
        {
         "href": "http://127.0.0.1:8008/processes",
         "hreflang": "en",
         "rel": "service",
         "title": "get_processes",
         "type": "application/json"
        },
        {
         "href": "http://127.0.0.1:8008/processes/{processID}",
         "hreflang": "en",
         "rel": "service",
         "title": "get_process",
         "type": "application/json"
        },
        {
         "href": "http://127.0.0.1:8008/processes/{processID}/execution",
         "hreflang": "en",
         "rel": "service",
         "title": "execute_process",
         "type": "application/json"
        },
        {
         "href": "http://127.0.0.1:8008/jobs",
         "hreflang": "en",
         "rel": "service",
         "title": "get_jobs",
         "type": "application/json"
        },
        {
         "href": "http://127.0.0.1:8008/jobs/{jobId}",
         "hreflang": "en",
         "rel": "service",
         "title": "get_job",
         "type": "application/json"
        },
        {
         "href": "http://127.0.0.1:8008/jobs/{jobId}",
         "hreflang": "en",
         "rel": "service",
         "title": "dismiss_job",
         "type": "application/json"
        },
        {
         "href": "http://127.0.0.1:8008/jobs/{jobId}/results",
         "hreflang": "en",
         "rel": "service",
         "title": "get_job_results",
         "type": "application/json"
        }
       ],
       "title": "S2GOS API Server (local dummy for testing)"
      },
      "text/plain": [
       "Capabilities(title='S2GOS API Server (local dummy for testing)', description='Local test server implementing the OGC API - Processes 1.0 Standard', links=[Link(href='http://127.0.0.1:8008/', rel='self', type='application/json', hreflang='en', title='get_capabilities'), Link(href='http://127.0.0.1:8008/openapi.json', rel='service', type='application/json', hreflang='en', title='openapi'), Link(href='http://127.0.0.1:8008/docs', rel='service', type='text/html', hreflang='en', title='swagger_ui_html'), Link(href='http://127.0.0.1:8008/docs/oauth2-redirect', rel='service', type='text/html', hreflang='en', title='swagger_ui_redirect'), Link(href='http://127.0.0.1:8008/redoc', rel='service', type='text/html', hreflang='en', title='redoc_html'), Link(href='http://127.0.0.1:8008/', rel='service', type='application/json', hreflang='en', title='get_capabilities'), Link(href='http://127.0.0.1:8008/conformance', rel='service', type='application/json', hreflang='en', title='get_conformance'), Link(href='http://127.0.0.1:8008/processes', rel='service', type='application/json', hreflang='en', title='get_processes'), Link(href='http://127.0.0.1:8008/processes/{processID}', rel='service', type='application/json', hreflang='en', title='get_process'), Link(href='http://127.0.0.1:8008/processes/{processID}/execution', rel='service', type='application/json', hreflang='en', title='execute_process'), Link(href='http://127.0.0.1:8008/jobs', rel='service', type='application/json', hreflang='en', title='get_jobs'), Link(href='http://127.0.0.1:8008/jobs/{jobId}', rel='service', type='application/json', hreflang='en', title='get_job'), Link(href='http://127.0.0.1:8008/jobs/{jobId}', rel='service', type='application/json', hreflang='en', title='dismiss_job'), Link(href='http://127.0.0.1:8008/jobs/{jobId}/results', rel='service', type='application/json', hreflang='en', title='get_job_results')])"
      ]
     },
     "execution_count": 3,
     "metadata": {
      "application/json": {
       "root": "Capabilities object:"
      }
     },
     "output_type": "execute_result"
    }
   ],
   "source": [
    "client.get_capabilities()"
   ]
  },
  {
   "cell_type": "code",
   "execution_count": 4,
   "id": "ed699a45-ff53-4278-8023-ee131f225088",
   "metadata": {},
   "outputs": [
    {
     "data": {
      "application/json": {
       "conformsTo": [
        "http://www.opengis.net/spec/ogcapi-processes-1/1.0/conf/core",
        "http://www.opengis.net/spec/ogcapi-processes-1/1.0/conf/ogc-process-description",
        "http://www.opengis.net/spec/ogcapi-processes-1/1.0/conf/json",
        "http://www.opengis.net/spec/ogcapi-processes-1/1.0/conf/oas30",
        "http://www.opengis.net/spec/ogcapi-processes-1/1.0/conf/job-list",
        "http://www.opengis.net/spec/ogcapi-processes-1/1.0/conf/dismiss"
       ]
      },
      "text/plain": [
       "ConformanceDeclaration(conformsTo=['http://www.opengis.net/spec/ogcapi-processes-1/1.0/conf/core', 'http://www.opengis.net/spec/ogcapi-processes-1/1.0/conf/ogc-process-description', 'http://www.opengis.net/spec/ogcapi-processes-1/1.0/conf/json', 'http://www.opengis.net/spec/ogcapi-processes-1/1.0/conf/oas30', 'http://www.opengis.net/spec/ogcapi-processes-1/1.0/conf/job-list', 'http://www.opengis.net/spec/ogcapi-processes-1/1.0/conf/dismiss'])"
      ]
     },
     "execution_count": 4,
     "metadata": {
      "application/json": {
       "root": "ConformanceDeclaration object:"
      }
     },
     "output_type": "execute_result"
    }
   ],
   "source": [
    "client.get_conformance()"
   ]
  },
  {
   "cell_type": "code",
   "execution_count": 5,
   "id": "7154afcd-59a9-484f-8271-1b4773b8c636",
   "metadata": {},
   "outputs": [
    {
     "data": {
      "application/json": {
       "links": [
        {
         "href": "http://127.0.0.1:8008/processes",
         "hreflang": "en",
         "rel": "self",
         "title": "get_processes",
         "type": "application/json"
        }
       ],
       "processes": [
        {
         "description": "Sleeps for `duration` seconds. Fails on purpose if `fail` is `True`. Returns the effective amount of sleep in seconds.",
         "id": "sleep_a_while",
         "title": "Sleep Processor",
         "version": "0.0.0"
        },
        {
         "description": "Returns the list of prime numbers between a `min_val` and `max_val`. ",
         "id": "primes_between",
         "title": "Prime Processor",
         "version": "0.0.0"
        },
        {
         "description": "Simulate a set scene images slices for testing. Creates an xarray dataset with `periodicity` time slices and writes it as Zarr into a temporary location. Requires installed `dask`, `xarray`, and `zarr` packages.",
         "id": "simulate_scene",
         "title": "Generate scene for testing",
         "version": "0.0.0"
        },
        {
         "id": "return_base_model",
         "title": "BaseModel Test",
         "version": "0.0.0"
        }
       ]
      },
      "text/plain": [
       "ProcessList(processes=[ProcessSummary(title='Sleep Processor', description='Sleeps for `duration` seconds. Fails on purpose if `fail` is `True`. Returns the effective amount of sleep in seconds.', keywords=None, metadata=None, additionalParameters=None, id='sleep_a_while', version='0.0.0', jobControlOptions=None, outputTransmission=None, links=None), ProcessSummary(title='Prime Processor', description='Returns the list of prime numbers between a `min_val` and `max_val`. ', keywords=None, metadata=None, additionalParameters=None, id='primes_between', version='0.0.0', jobControlOptions=None, outputTransmission=None, links=None), ProcessSummary(title='Generate scene for testing', description='Simulate a set scene images slices for testing. Creates an xarray dataset with `periodicity` time slices and writes it as Zarr into a temporary location. Requires installed `dask`, `xarray`, and `zarr` packages.', keywords=None, metadata=None, additionalParameters=None, id='simulate_scene', version='0.0.0', jobControlOptions=None, outputTransmission=None, links=None), ProcessSummary(title='BaseModel Test', description=None, keywords=None, metadata=None, additionalParameters=None, id='return_base_model', version='0.0.0', jobControlOptions=None, outputTransmission=None, links=None)], links=[Link(href='http://127.0.0.1:8008/processes', rel='self', type='application/json', hreflang='en', title='get_processes')])"
      ]
     },
     "execution_count": 5,
     "metadata": {
      "application/json": {
       "root": "ProcessList object:"
      }
     },
     "output_type": "execute_result"
    }
   ],
   "source": [
    "client.get_processes()"
   ]
  },
  {
   "cell_type": "code",
   "execution_count": 6,
   "id": "a629ba21-e389-4131-ae84-2ce5c5fc7aa9",
   "metadata": {},
   "outputs": [
    {
     "data": {
      "application/json": {
       "description": "Sleeps for `duration` seconds. Fails on purpose if `fail` is `True`. Returns the effective amount of sleep in seconds.",
       "id": "sleep_a_while",
       "inputs": {
        "duration": {
         "minOccurs": 0,
         "schema": {
          "default": 10,
          "type": "number"
         },
         "title": "Duration"
        },
        "fail": {
         "minOccurs": 0,
         "schema": {
          "default": false,
          "type": "boolean"
         },
         "title": "Fail"
        }
       },
       "outputs": {
        "return_value": {
         "schema": {
          "type": "number"
         },
         "title": "Return Value"
        }
       },
       "title": "Sleep Processor",
       "version": "0.0.0"
      },
      "text/plain": [
       "ProcessDescription(title='Sleep Processor', description='Sleeps for `duration` seconds. Fails on purpose if `fail` is `True`. Returns the effective amount of sleep in seconds.', keywords=None, metadata=None, additionalParameters=None, id='sleep_a_while', version='0.0.0', jobControlOptions=None, outputTransmission=None, links=None, inputs={'duration': InputDescription(title='Duration', description=None, keywords=None, metadata=None, additionalParameters=None, minOccurs=0, maxOccurs=None, schema_=Schema(field_ref=None, title=None, multipleOf=None, maximum=None, exclusiveMaximum=False, minimum=None, exclusiveMinimum=False, maxLength=None, minLength=0, pattern=None, maxItems=None, minItems=0, uniqueItems=False, maxProperties=None, minProperties=0, required=None, enum=None, type=<DataType.number: 'number'>, not_=None, allOf=None, oneOf=None, anyOf=None, items=None, properties=None, additionalProperties=True, description=None, format=None, default=10.0, nullable=False, readOnly=False, writeOnly=False, example=None, examples=None, deprecated=False, contentMediaType=None, contentEncoding=None, contentSchema=None)), 'fail': InputDescription(title='Fail', description=None, keywords=None, metadata=None, additionalParameters=None, minOccurs=0, maxOccurs=None, schema_=Schema(field_ref=None, title=None, multipleOf=None, maximum=None, exclusiveMaximum=False, minimum=None, exclusiveMinimum=False, maxLength=None, minLength=0, pattern=None, maxItems=None, minItems=0, uniqueItems=False, maxProperties=None, minProperties=0, required=None, enum=None, type=<DataType.boolean: 'boolean'>, not_=None, allOf=None, oneOf=None, anyOf=None, items=None, properties=None, additionalProperties=True, description=None, format=None, default=False, nullable=False, readOnly=False, writeOnly=False, example=None, examples=None, deprecated=False, contentMediaType=None, contentEncoding=None, contentSchema=None))}, outputs={'return_value': OutputDescription(title='Return Value', description=None, keywords=None, metadata=None, additionalParameters=None, schema_=Schema(field_ref=None, title=None, multipleOf=None, maximum=None, exclusiveMaximum=False, minimum=None, exclusiveMinimum=False, maxLength=None, minLength=0, pattern=None, maxItems=None, minItems=0, uniqueItems=False, maxProperties=None, minProperties=0, required=None, enum=None, type=<DataType.number: 'number'>, not_=None, allOf=None, oneOf=None, anyOf=None, items=None, properties=None, additionalProperties=True, description=None, format=None, default=None, nullable=False, readOnly=False, writeOnly=False, example=None, examples=None, deprecated=False, contentMediaType=None, contentEncoding=None, contentSchema=None))})"
      ]
     },
     "execution_count": 6,
     "metadata": {
      "application/json": {
       "root": "ProcessDescription object:"
      }
     },
     "output_type": "execute_result"
    }
   ],
   "source": [
    "client.get_process(process_id=\"sleep_a_while\")"
   ]
  },
  {
   "cell_type": "code",
   "execution_count": 8,
   "id": "cc034916-02db-4ec2-8682-71710d54edf6",
   "metadata": {},
   "outputs": [
    {
     "data": {
      "application/json": {
       "created": "2025-07-15T14:30:55.953473",
       "jobID": "job_0",
       "processID": "sleep_a_while",
       "progress": 0,
       "started": "2025-07-15T14:30:55.954652",
       "status": "running",
       "type": "process",
       "updated": "2025-07-15T14:30:55.954802"
      },
      "text/plain": [
       "JobInfo(processID='sleep_a_while', type=<JobType.process: 'process'>, jobID='job_0', status=<JobStatus.running: 'running'>, message=None, created=datetime.datetime(2025, 7, 15, 14, 30, 55, 953473), started=datetime.datetime(2025, 7, 15, 14, 30, 55, 954652), finished=None, updated=datetime.datetime(2025, 7, 15, 14, 30, 55, 954802), progress=0, links=None, traceback=None)"
      ]
     },
     "execution_count": 8,
     "metadata": {
      "application/json": {
       "root": "JobInfo object:"
      }
     },
     "output_type": "execute_result"
    }
   ],
   "source": [
    "client.execute_process(process_id=\"sleep_a_while\", request=ProcessRequest())"
   ]
  },
  {
   "cell_type": "code",
   "execution_count": 13,
   "id": "9cf5e867-d91e-45dd-91b3-a54bc2d087a7",
   "metadata": {},
   "outputs": [
    {
     "data": {
      "application/json": {
       "jobs": [
        {
         "created": "2025-07-15T14:30:55.953473",
         "finished": "2025-07-15T14:31:06.177857",
         "jobID": "job_0",
         "processID": "sleep_a_while",
         "progress": 100,
         "started": "2025-07-15T14:30:55.954652",
         "status": "successful",
         "type": "process",
         "updated": "2025-07-15T14:31:06.077579"
        },
        {
         "created": "2025-07-15T14:30:57.076533",
         "finished": "2025-07-15T14:31:07.228169",
         "jobID": "job_1",
         "processID": "sleep_a_while",
         "progress": 100,
         "started": "2025-07-15T14:30:57.078604",
         "status": "successful",
         "type": "process",
         "updated": "2025-07-15T14:31:07.127868"
        },
        {
         "created": "2025-07-15T14:31:50.655620",
         "finished": "2025-07-15T14:31:50.657708",
         "jobID": "job_2",
         "message": "Done",
         "processID": "primes_between",
         "started": "2025-07-15T14:31:50.657474",
         "status": "successful",
         "type": "process",
         "updated": "2025-07-15T14:31:50.657674"
        }
       ],
       "links": [
        {
         "href": "http://127.0.0.1:8008/jobs",
         "hreflang": "en",
         "rel": "self",
         "title": "get_jobs",
         "type": "application/json"
        }
       ]
      },
      "text/plain": [
       "JobList(jobs=[JobInfo(processID='sleep_a_while', type=<JobType.process: 'process'>, jobID='job_0', status=<JobStatus.successful: 'successful'>, message=None, created=datetime.datetime(2025, 7, 15, 14, 30, 55, 953473), started=datetime.datetime(2025, 7, 15, 14, 30, 55, 954652), finished=datetime.datetime(2025, 7, 15, 14, 31, 6, 177857), updated=datetime.datetime(2025, 7, 15, 14, 31, 6, 77579), progress=100, links=None, traceback=None), JobInfo(processID='sleep_a_while', type=<JobType.process: 'process'>, jobID='job_1', status=<JobStatus.successful: 'successful'>, message=None, created=datetime.datetime(2025, 7, 15, 14, 30, 57, 76533), started=datetime.datetime(2025, 7, 15, 14, 30, 57, 78604), finished=datetime.datetime(2025, 7, 15, 14, 31, 7, 228169), updated=datetime.datetime(2025, 7, 15, 14, 31, 7, 127868), progress=100, links=None, traceback=None), JobInfo(processID='primes_between', type=<JobType.process: 'process'>, jobID='job_2', status=<JobStatus.successful: 'successful'>, message='Done', created=datetime.datetime(2025, 7, 15, 14, 31, 50, 655620), started=datetime.datetime(2025, 7, 15, 14, 31, 50, 657474), finished=datetime.datetime(2025, 7, 15, 14, 31, 50, 657708), updated=datetime.datetime(2025, 7, 15, 14, 31, 50, 657674), progress=None, links=None, traceback=None)], links=[Link(href='http://127.0.0.1:8008/jobs', rel='self', type='application/json', hreflang='en', title='get_jobs')])"
      ]
     },
     "execution_count": 13,
     "metadata": {
      "application/json": {
       "root": "JobList object:"
      }
     },
     "output_type": "execute_result"
    }
   ],
   "source": [
    "client.get_jobs()"
   ]
  },
  {
   "cell_type": "code",
   "execution_count": null,
   "id": "b7f99444-d724-4451-aeae-0c23e8245dd1",
   "metadata": {},
   "outputs": [],
   "source": [
    "# client.get_job_results(\"job_1\")"
   ]
  },
  {
   "cell_type": "code",
   "execution_count": 14,
   "id": "736d52d8-d91a-435b-8dfb-b016a5139201",
   "metadata": {},
   "outputs": [],
   "source": [
    "for job in client.get_jobs().jobs:\n",
    "    client.dismiss_job(job.jobID)"
   ]
  },
  {
   "cell_type": "code",
   "execution_count": 15,
   "id": "4636fdfc-3f61-40b4-889e-497c2dd50d91",
   "metadata": {},
   "outputs": [
    {
     "data": {
      "application/json": {
       "jobs": [],
       "links": [
        {
         "href": "http://127.0.0.1:8008/jobs",
         "hreflang": "en",
         "rel": "self",
         "title": "get_jobs",
         "type": "application/json"
        }
       ]
      },
      "text/plain": [
       "JobList(jobs=[], links=[Link(href='http://127.0.0.1:8008/jobs', rel='self', type='application/json', hreflang='en', title='get_jobs')])"
      ]
     },
     "execution_count": 15,
     "metadata": {
      "application/json": {
       "root": "JobList object:"
      }
     },
     "output_type": "execute_result"
    }
   ],
   "source": [
    "client.get_jobs()"
   ]
  },
  {
   "cell_type": "code",
   "execution_count": null,
   "id": "f6f7b188-2124-480c-bb54-f7dabf22076a",
   "metadata": {},
   "outputs": [],
   "source": []
  },
  {
   "cell_type": "code",
   "execution_count": null,
   "id": "cd2d8bd5-1f52-4edf-868b-7730d8077602",
   "metadata": {},
   "outputs": [],
   "source": []
  }
 ],
 "metadata": {
  "kernelspec": {
   "display_name": "Python 3 (ipykernel)",
   "language": "python",
   "name": "python3"
  },
  "language_info": {
   "codemirror_mode": {
    "name": "ipython",
    "version": 3
   },
   "file_extension": ".py",
   "mimetype": "text/x-python",
   "name": "python",
   "nbconvert_exporter": "python",
   "pygments_lexer": "ipython3",
   "version": "3.13.5"
  }
 },
 "nbformat": 4,
 "nbformat_minor": 5
}
